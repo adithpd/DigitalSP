{
 "cells": [
  {
   "attachments": {},
   "cell_type": "markdown",
   "metadata": {},
   "source": [
    "**FUNCTIONS USED IN NUMPY:**\n",
    "\n",
    "```python\n",
    "np.array(), np.empty(), np.arange(), np.linspace(), np.ones(), np.zeros(), np.pad(), np.sum(), np.absolute(), np.reshape(), np.round(), np.fft.fft(), np.roll(), np.atleast_2d(), np.where()\n",
    "```"
   ]
  },
  {
   "cell_type": "code",
   "execution_count": 2,
   "metadata": {},
   "outputs": [],
   "source": [
    "import numpy as np\n",
    "import matplotlib.pyplot as plt"
   ]
  },
  {
   "attachments": {},
   "cell_type": "markdown",
   "metadata": {},
   "source": [
    "**N-POINT DFT USING TWIDDLE FACTOR MATRIX**"
   ]
  },
  {
   "cell_type": "code",
   "execution_count": 3,
   "metadata": {},
   "outputs": [
    {
     "name": "stdout",
     "output_type": "stream",
     "text": [
      "[[10.+0.j]\n",
      " [-2.+2.j]\n",
      " [-2.-0.j]\n",
      " [-2.-2.j]]\n",
      "[10.+0.j -2.+2.j -2.+0.j -2.-2.j]\n"
     ]
    }
   ],
   "source": [
    "N = 4\n",
    "D = np.empty(shape = (N,N),dtype = np.cdouble)\n",
    "n = np.arange(N)\n",
    "W = np.exp(-1j*2*np.pi/N)\n",
    "for k in np.arange(N):\n",
    "    D[k,:] = W**(k*n)\n",
    "np.round(D)\n",
    "x_n = np.atleast_2d(np.array([1,2,3,4])).transpose()\n",
    "dft_n = np.zeros(shape=(N,1))\n",
    "dft_n = np.round(D@x_n,3)\n",
    "print(dft_n)\n",
    "print(np.fft.fft(x_n.flatten())) #Input Goes in Like A List"
   ]
  },
  {
   "attachments": {},
   "cell_type": "markdown",
   "metadata": {},
   "source": [
    "**PARSEVALS RELATION**"
   ]
  },
  {
   "cell_type": "code",
   "execution_count": 4,
   "metadata": {},
   "outputs": [
    {
     "name": "stdout",
     "output_type": "stream",
     "text": [
      "30.0\n",
      "30\n"
     ]
    }
   ],
   "source": [
    "print(np.sum(np.absolute(dft_n)**2)/N)\n",
    "print(np.sum(np.absolute(x_n)**2))"
   ]
  },
  {
   "attachments": {},
   "cell_type": "markdown",
   "metadata": {},
   "source": [
    "**CIRCULAR CONVOLUTION**"
   ]
  },
  {
   "cell_type": "code",
   "execution_count": 5,
   "metadata": {},
   "outputs": [
    {
     "name": "stdout",
     "output_type": "stream",
     "text": [
      "[[14.+0.j]\n",
      " [16.+0.j]\n",
      " [14.+0.j]\n",
      " [16.+0.j]]\n"
     ]
    }
   ],
   "source": [
    "N = 4\n",
    "x_n = np.array([1,2,3,4])\n",
    "h_n = np.atleast_2d(np.array([2,1,2,1])).T\n",
    "x_matrix = np.empty(shape = (N,N), dtype=np.cdouble)\n",
    "for i in np.arange(N):\n",
    "    x_matrix[:,i] = np.roll(x_n,i)\n",
    "y_n = x_matrix@h_n\n",
    "print(y_n)"
   ]
  },
  {
   "attachments": {},
   "cell_type": "markdown",
   "metadata": {},
   "source": [
    "**LINEAR CONVOLUTION**"
   ]
  },
  {
   "cell_type": "code",
   "execution_count": 54,
   "metadata": {},
   "outputs": [
    {
     "name": "stdout",
     "output_type": "stream",
     "text": [
      "[ 4. 13. 28. 27. 18.]\n"
     ]
    }
   ],
   "source": [
    "x1_n = np.array([1,2,3])\n",
    "x2_n = np.array([4,5,6])\n",
    "\n",
    "length1, length2 = len(x1_n), len(x2_n)\n",
    "if length1 > length2:\n",
    "    zero_padding = length1 - 1\n",
    "    x2_n = np.flip(x2_n)\n",
    "    x2_n = np.pad(x2_n,(0,zero_padding),'constant', constant_values=(0,0))\n",
    "else:\n",
    "    zero_padding = length2 - 1\n",
    "    x1_n = np.flip(x1_n)\n",
    "    x1_n = np.pad(x1_n,(0,zero_padding),'constant', constant_values=(0,0))\n",
    "    x1_n, x2_n = x2_n, x1_n\n",
    "y_n = np.zeros(length1 + length2 - 1)\n",
    "\n",
    "for i in range(len(y_n)):\n",
    "    y_n[i] = np.sum(x1_n * x2_n[length2-1:])\n",
    "    x2_n = np.roll(x2_n,1)\n",
    "print(np.round(y_n))"
   ]
  },
  {
   "attachments": {},
   "cell_type": "markdown",
   "metadata": {},
   "source": [
    "**FAST FOURIER TRANSFORM USING DIT**"
   ]
  },
  {
   "cell_type": "code",
   "execution_count": 81,
   "metadata": {},
   "outputs": [
    {
     "name": "stdout",
     "output_type": "stream",
     "text": [
      "[10.+0.j -2.+2.j -2.+0.j -2.-2.j]\n"
     ]
    }
   ],
   "source": [
    "def FFT(g):\n",
    "    N = len(g)\n",
    "    if N<=1:\n",
    "        return g\n",
    "    even = FFT(g[0::2])\n",
    "    odd = FFT(g[1::2])\n",
    "    temp = np.zeros(N).astype(np.complex64)\n",
    "    for n in range(N//2):\n",
    "        temp[n] = even[n] + np.exp(-2j*np.pi*n/N)*odd[n]\n",
    "        temp[n+N//2] = even[n] - np.exp(-2j*np.pi*n/N)*odd[n]\n",
    "    return temp\n",
    "print(FFT([1,2,3,4]))"
   ]
  },
  {
   "attachments": {},
   "cell_type": "markdown",
   "metadata": {},
   "source": [
    "**INVERSE FAST FOURIER TRANSFORM**"
   ]
  },
  {
   "cell_type": "code",
   "execution_count": 84,
   "metadata": {},
   "outputs": [
    {
     "name": "stdout",
     "output_type": "stream",
     "text": [
      "[1.+0.000000e+00j 2.+6.123234e-17j 3.+0.000000e+00j 4.-6.123234e-17j]\n"
     ]
    }
   ],
   "source": [
    "def IFFT(g):\n",
    "    N = len(g)\n",
    "    if N<=1:\n",
    "        return g\n",
    "    even = IFFT(g[0::2])\n",
    "    odd = IFFT(g[1::2])\n",
    "    temp = np.zeros(N).astype(np.complex64)\n",
    "    for n in range(N//2):\n",
    "        temp[n] = even[n] + np.exp(2j*np.pi*n/N)*odd[n]\n",
    "        temp[n+N//2] = even[n] - np.exp(2j*np.pi*n/N)*odd[n]\n",
    "    return temp\n",
    "print(IFFT([10.+0.j,-2.+2.j,-2.+0.j,-2.-2.j])/N)"
   ]
  }
 ],
 "metadata": {
  "kernelspec": {
   "display_name": "Python 3",
   "language": "python",
   "name": "python3"
  },
  "language_info": {
   "codemirror_mode": {
    "name": "ipython",
    "version": 3
   },
   "file_extension": ".py",
   "mimetype": "text/x-python",
   "name": "python",
   "nbconvert_exporter": "python",
   "pygments_lexer": "ipython3",
   "version": "3.10.4"
  },
  "orig_nbformat": 4,
  "vscode": {
   "interpreter": {
    "hash": "2b896ce0370f348a4b5475cbb9a005ceec8dacf9930b118bf3dd49c2684e558f"
   }
  }
 },
 "nbformat": 4,
 "nbformat_minor": 2
}
